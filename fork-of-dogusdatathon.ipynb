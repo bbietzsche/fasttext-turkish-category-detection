{
 "cells": [
  {
   "cell_type": "code",
   "execution_count": 1,
   "id": "6de82a96",
   "metadata": {
    "_cell_guid": "b1076dfc-b9ad-4769-8c92-a6c4dae69d19",
    "_uuid": "8f2839f25d086af736a60e9eeb907d3b93b6e0e5",
    "execution": {
     "iopub.execute_input": "2021-10-28T18:44:52.796014Z",
     "iopub.status.busy": "2021-10-28T18:44:52.795327Z",
     "iopub.status.idle": "2021-10-28T18:44:52.826688Z",
     "shell.execute_reply": "2021-10-28T18:44:52.825487Z",
     "shell.execute_reply.started": "2021-10-27T18:04:34.581665Z"
    },
    "papermill": {
     "duration": 0.061173,
     "end_time": "2021-10-28T18:44:52.826953",
     "exception": false,
     "start_time": "2021-10-28T18:44:52.765780",
     "status": "completed"
    },
    "tags": []
   },
   "outputs": [
    {
     "name": "stdout",
     "output_type": "stream",
     "text": [
      "/kaggle/input/zemberekwords/stop-words.tr.txt\n",
      "/kaggle/input/fasttextturkishvector/cc.tr.300.vec\n",
      "/kaggle/input/dogus-teknoloji-n11/train_n11.csv\n",
      "/kaggle/input/dogus-teknoloji-n11/test_n11.csv\n",
      "/kaggle/input/dogus-teknoloji-n11/sample_submission_n11.csv\n"
     ]
    }
   ],
   "source": [
    "import numpy as np \n",
    "import pandas as pd \n",
    "\n",
    "import os\n",
    "import re\n",
    "for dirname, _, filenames in os.walk('/kaggle/input'):\n",
    "    for filename in filenames:\n",
    "        print(os.path.join(dirname, filename))"
   ]
  },
  {
   "cell_type": "code",
   "execution_count": 2,
   "id": "9167b1e7",
   "metadata": {
    "execution": {
     "iopub.execute_input": "2021-10-28T18:44:52.860953Z",
     "iopub.status.busy": "2021-10-28T18:44:52.860228Z",
     "iopub.status.idle": "2021-10-28T18:45:05.130967Z",
     "shell.execute_reply": "2021-10-28T18:45:05.130264Z",
     "shell.execute_reply.started": "2021-10-27T18:04:36.702072Z"
    },
    "papermill": {
     "duration": 12.289868,
     "end_time": "2021-10-28T18:45:05.131114",
     "exception": false,
     "start_time": "2021-10-28T18:44:52.841246",
     "status": "completed"
    },
    "tags": []
   },
   "outputs": [],
   "source": [
    "sample_submission = pd.read_csv('../input/dogus-teknoloji-n11/sample_submission_n11.csv')\n",
    "test_data = pd.read_csv('../input/dogus-teknoloji-n11/test_n11.csv',sep='|')\n",
    "train_data = pd.read_csv('../input/dogus-teknoloji-n11/train_n11.csv',sep='|')"
   ]
  },
  {
   "cell_type": "code",
   "execution_count": 3,
   "id": "81dc5ebb",
   "metadata": {
    "execution": {
     "iopub.execute_input": "2021-10-28T18:45:05.164325Z",
     "iopub.status.busy": "2021-10-28T18:45:05.163468Z",
     "iopub.status.idle": "2021-10-28T18:45:07.137323Z",
     "shell.execute_reply": "2021-10-28T18:45:07.137932Z",
     "shell.execute_reply.started": "2021-10-27T18:04:46.87625Z"
    },
    "papermill": {
     "duration": 1.993828,
     "end_time": "2021-10-28T18:45:07.138144",
     "exception": false,
     "start_time": "2021-10-28T18:45:05.144316",
     "status": "completed"
    },
    "tags": []
   },
   "outputs": [],
   "source": [
    "from bs4 import BeautifulSoup\n",
    "from sklearn.feature_extraction.text import CountVectorizer\n",
    "from sklearn.feature_extraction.text import TfidfVectorizer\n",
    "from sklearn.model_selection import train_test_split\n",
    "from sklearn.naive_bayes import MultinomialNB\n",
    "from sklearn.metrics import accuracy_score\n",
    "from sklearn.metrics import classification_report\n",
    "from sklearn.metrics import f1_score\n",
    "from nltk.tokenize import word_tokenize\n",
    "import fasttext"
   ]
  },
  {
   "cell_type": "code",
   "execution_count": 4,
   "id": "7db46e6c",
   "metadata": {
    "execution": {
     "iopub.execute_input": "2021-10-28T18:45:07.173084Z",
     "iopub.status.busy": "2021-10-28T18:45:07.172032Z",
     "iopub.status.idle": "2021-10-28T18:45:07.181981Z",
     "shell.execute_reply": "2021-10-28T18:45:07.182615Z",
     "shell.execute_reply.started": "2021-10-27T18:04:50.906639Z"
    },
    "papermill": {
     "duration": 0.030559,
     "end_time": "2021-10-28T18:45:07.182803",
     "exception": false,
     "start_time": "2021-10-28T18:45:07.152244",
     "status": "completed"
    },
    "tags": []
   },
   "outputs": [],
   "source": [
    "with open('../input/zemberekwords/stop-words.tr.txt', 'r') as f:\n",
    "    stop_words = [line.strip() for line in f]\n",
    "    missing = ('sayede','mükemmel',)\n",
    "    stop_words.extend(missing)\n",
    "    "
   ]
  },
  {
   "cell_type": "code",
   "execution_count": 5,
   "id": "d4b30d2d",
   "metadata": {
    "execution": {
     "iopub.execute_input": "2021-10-28T18:45:07.213123Z",
     "iopub.status.busy": "2021-10-28T18:45:07.212386Z",
     "iopub.status.idle": "2021-10-28T18:45:07.222071Z",
     "shell.execute_reply": "2021-10-28T18:45:07.221468Z",
     "shell.execute_reply.started": "2021-10-27T18:04:54.452532Z"
    },
    "papermill": {
     "duration": 0.026234,
     "end_time": "2021-10-28T18:45:07.222226",
     "exception": false,
     "start_time": "2021-10-28T18:45:07.195992",
     "status": "completed"
    },
    "tags": []
   },
   "outputs": [],
   "source": [
    "def toClean(text):\n",
    "\n",
    "    text = re.sub(r\"I\", \"ı\", text)\n",
    "    text = text.lower()\n",
    "    text = re.sub('ürün detayları', '', text)\n",
    "    text = BeautifulSoup(text, \"lxml\").text\n",
    "    text = re.sub(r\"\\n\", \"  \", text)\n",
    "    text = re.sub(r\"  \", \" \", text)\n",
    "    text = re.sub(' +', ' ', text)\n",
    "    text = text.strip()\n",
    "    text = re.sub(r'[^\\w\\s]',' ',text)\n",
    "    return text\n",
    "\n",
    "def cleanStopWords(text):\n",
    "    words = word_tokenize(text)\n",
    "    filtered_sentence = \" \".join(w.lower() for w in words if not w in stop_words)\n",
    "    return filtered_sentence\n"
   ]
  },
  {
   "cell_type": "code",
   "execution_count": 6,
   "id": "b83eab64",
   "metadata": {
    "execution": {
     "iopub.execute_input": "2021-10-28T18:45:07.258351Z",
     "iopub.status.busy": "2021-10-28T18:45:07.257622Z",
     "iopub.status.idle": "2021-10-28T18:57:24.305082Z",
     "shell.execute_reply": "2021-10-28T18:57:24.305691Z",
     "shell.execute_reply.started": "2021-10-27T18:05:06.041233Z"
    },
    "papermill": {
     "duration": 737.070537,
     "end_time": "2021-10-28T18:57:24.305901",
     "exception": false,
     "start_time": "2021-10-28T18:45:07.235364",
     "status": "completed"
    },
    "tags": []
   },
   "outputs": [
    {
     "name": "stderr",
     "output_type": "stream",
     "text": [
      "/opt/conda/lib/python3.7/site-packages/bs4/__init__.py:343: MarkupResemblesLocatorWarning: \".\" looks like a directory name, not markup. You may want to open a file found in this directory and pass the filehandle into Beautiful Soup.\n",
      "  MarkupResemblesLocatorWarning\n"
     ]
    }
   ],
   "source": [
    "train_data[\"CATEGORY_ID\"] = train_data[\"CATEGORY_ID\"].apply(lambda x: \"__label__\" + str(x))\n",
    "\n",
    "\n",
    "train_data['clean_des'] = train_data['DESCRIPTION'].apply(toClean).apply(cleanStopWords)\n",
    "train_data['clean_title'] = train_data['TITLE'].apply(toClean).apply(cleanStopWords)\n",
    "train_data['sumOfBag'] = train_data['clean_des'] + ' ' + train_data['clean_title'] \n",
    "df = train_data['sumOfBag']\n",
    "\n",
    "#train_data.CATEGORY_ID.value_counts().to_frame().head()\n",
    "#y = train_data['CATEGORY_ID']"
   ]
  },
  {
   "cell_type": "code",
   "execution_count": 7,
   "id": "27deac21",
   "metadata": {
    "execution": {
     "iopub.execute_input": "2021-10-28T18:57:24.337014Z",
     "iopub.status.busy": "2021-10-28T18:57:24.336254Z",
     "iopub.status.idle": "2021-10-28T18:58:32.159314Z",
     "shell.execute_reply": "2021-10-28T18:58:32.158618Z",
     "shell.execute_reply.started": "2021-10-27T18:05:44.504331Z"
    },
    "papermill": {
     "duration": 67.839625,
     "end_time": "2021-10-28T18:58:32.159473",
     "exception": false,
     "start_time": "2021-10-28T18:57:24.319848",
     "status": "completed"
    },
    "tags": []
   },
   "outputs": [
    {
     "name": "stdout",
     "output_type": "stream",
     "text": [
      "--2021-10-28 18:57:25--  https://dl.fbaipublicfiles.com/fasttext/vectors-crawl/cc.tr.300.vec.gz\r\n",
      "Resolving dl.fbaipublicfiles.com (dl.fbaipublicfiles.com)... 172.67.9.4, 104.22.75.142, 104.22.74.142, ...\r\n",
      "Connecting to dl.fbaipublicfiles.com (dl.fbaipublicfiles.com)|172.67.9.4|:443... connected.\r\n",
      "HTTP request sent, awaiting response... 200 OK\r\n",
      "Length: 1261500728 (1.2G) [binary/octet-stream]\r\n",
      "Saving to: ‘cc.tr.300.vec.gz’\r\n",
      "\r\n",
      "cc.tr.300.vec.gz    100%[===================>]   1.17G  45.6MB/s    in 24s     \r\n",
      "\r\n",
      "2021-10-28 18:57:49 (50.1 MB/s) - ‘cc.tr.300.vec.gz’ saved [1261500728/1261500728]\r\n",
      "\r\n"
     ]
    }
   ],
   "source": [
    "!wget https://dl.fbaipublicfiles.com/fasttext/vectors-crawl/cc.tr.300.vec.gz\n",
    "!gzip -d cc.tr.300.vec.gz"
   ]
  },
  {
   "cell_type": "code",
   "execution_count": 8,
   "id": "c4f417d1",
   "metadata": {
    "execution": {
     "iopub.execute_input": "2021-10-28T18:58:37.882141Z",
     "iopub.status.busy": "2021-10-28T18:58:37.880837Z",
     "iopub.status.idle": "2021-10-28T18:58:43.638834Z",
     "shell.execute_reply": "2021-10-28T18:58:43.637880Z",
     "shell.execute_reply.started": "2021-10-27T18:05:27.962508Z"
    },
    "papermill": {
     "duration": 7.527998,
     "end_time": "2021-10-28T18:58:43.638994",
     "exception": false,
     "start_time": "2021-10-28T18:58:36.110996",
     "status": "completed"
    },
    "tags": []
   },
   "outputs": [],
   "source": [
    "import csv\n",
    "train_data[['CATEGORY_ID', 'sumOfBag']].to_csv('train.txt', \n",
    "                                          index = False, \n",
    "                                          sep = ' ',\n",
    "                                          header = None, \n",
    "                                          quoting = csv.QUOTE_NONE, \n",
    "                                          quotechar = \"\", \n",
    "                                          escapechar = \" \")"
   ]
  },
  {
   "cell_type": "code",
   "execution_count": 9,
   "id": "20900d2b",
   "metadata": {
    "execution": {
     "iopub.execute_input": "2021-10-28T18:58:47.863510Z",
     "iopub.status.busy": "2021-10-28T18:58:47.862516Z",
     "iopub.status.idle": "2021-10-28T19:39:19.730340Z",
     "shell.execute_reply": "2021-10-28T19:39:19.730903Z",
     "shell.execute_reply.started": "2021-10-27T18:08:55.064233Z"
    },
    "papermill": {
     "duration": 2436.045695,
     "end_time": "2021-10-28T19:39:19.731113",
     "exception": false,
     "start_time": "2021-10-28T18:58:43.685418",
     "status": "completed"
    },
    "tags": []
   },
   "outputs": [
    {
     "name": "stderr",
     "output_type": "stream",
     "text": [
      "Read 14M words\n",
      "Number of words:  190905\n",
      "Number of labels: 177\n",
      "Progress: 100.0% words/sec/thread:  383197 lr:  0.000000 avg.loss:  0.055366 ETA:   0h 0m 0s\n"
     ]
    }
   ],
   "source": [
    "model = fasttext.train_supervised(\n",
    "    input=\"train.txt\", \n",
    "    epoch=150, \n",
    "    dim=300,\n",
    "    wordNgrams=2,\n",
    "    pretrainedVectors=\"cc.tr.300.vec\"\n",
    ")"
   ]
  },
  {
   "cell_type": "code",
   "execution_count": 10,
   "id": "a21bda25",
   "metadata": {
    "execution": {
     "iopub.execute_input": "2021-10-28T19:39:24.366866Z",
     "iopub.status.busy": "2021-10-28T19:39:24.366178Z",
     "iopub.status.idle": "2021-10-28T19:42:28.013732Z",
     "shell.execute_reply": "2021-10-28T19:42:28.012967Z",
     "shell.execute_reply.started": "2021-10-27T18:16:38.170217Z"
    },
    "papermill": {
     "duration": 186.038429,
     "end_time": "2021-10-28T19:42:28.013894",
     "exception": false,
     "start_time": "2021-10-28T19:39:21.975465",
     "status": "completed"
    },
    "tags": []
   },
   "outputs": [],
   "source": [
    "test_data['clean_des'] = test_data['DESCRIPTION'].apply(toClean).apply(cleanStopWords)\n",
    "test_data['clean_title'] = test_data['TITLE'].apply(toClean).apply(cleanStopWords)\n",
    "test_data['sumOfBag'] = test_data['clean_des'] + ' . ' + test_data['clean_title'] \n",
    "df2 = test_data['sumOfBag']"
   ]
  },
  {
   "cell_type": "code",
   "execution_count": 11,
   "id": "852b6e42",
   "metadata": {
    "execution": {
     "iopub.execute_input": "2021-10-28T19:42:32.498065Z",
     "iopub.status.busy": "2021-10-28T19:42:32.497005Z",
     "iopub.status.idle": "2021-10-28T19:42:38.341390Z",
     "shell.execute_reply": "2021-10-28T19:42:38.341874Z",
     "shell.execute_reply.started": "2021-10-27T18:18:55.522379Z"
    },
    "papermill": {
     "duration": 8.092233,
     "end_time": "2021-10-28T19:42:38.342052",
     "exception": false,
     "start_time": "2021-10-28T19:42:30.249819",
     "status": "completed"
    },
    "tags": []
   },
   "outputs": [],
   "source": [
    "# Evaluating performance on the entire test file\n",
    "pred = []\n",
    "for i in test_data['sumOfBag']:\n",
    "    pred.append(re.sub('__label__', '', model.predict(i)[0][0]))"
   ]
  },
  {
   "cell_type": "code",
   "execution_count": 12,
   "id": "bc7869b7",
   "metadata": {
    "execution": {
     "iopub.execute_input": "2021-10-28T19:42:42.962809Z",
     "iopub.status.busy": "2021-10-28T19:42:42.962060Z",
     "iopub.status.idle": "2021-10-28T19:42:43.017107Z",
     "shell.execute_reply": "2021-10-28T19:42:43.017747Z",
     "shell.execute_reply.started": "2021-10-27T17:34:30.568485Z"
    },
    "papermill": {
     "duration": 2.331258,
     "end_time": "2021-10-28T19:42:43.017966",
     "exception": false,
     "start_time": "2021-10-28T19:42:40.686708",
     "status": "completed"
    },
    "tags": []
   },
   "outputs": [],
   "source": [
    "test_id = test_data['ID']\n",
    "expected_df = pd.DataFrame(pred)\n",
    "result = pd.concat([test_id, expected_df], axis=1)\n",
    "result.columns = ['ID','Expected']\n",
    "result.to_csv(r'submission.csv', index = False)"
   ]
  },
  {
   "cell_type": "markdown",
   "id": "444f3a84",
   "metadata": {
    "execution": {
     "iopub.execute_input": "2021-10-23T18:18:02.625674Z",
     "iopub.status.busy": "2021-10-23T18:18:02.625381Z",
     "iopub.status.idle": "2021-10-23T18:18:02.769924Z",
     "shell.execute_reply": "2021-10-23T18:18:02.7688Z",
     "shell.execute_reply.started": "2021-10-23T18:18:02.625644Z"
    },
    "papermill": {
     "duration": 2.241739,
     "end_time": "2021-10-28T19:42:47.577087",
     "exception": false,
     "start_time": "2021-10-28T19:42:45.335348",
     "status": "completed"
    },
    "tags": []
   },
   "source": [
    "expected = model.predict(bow2)"
   ]
  },
  {
   "cell_type": "markdown",
   "id": "365bf11c",
   "metadata": {
    "papermill": {
     "duration": 2.298472,
     "end_time": "2021-10-28T19:42:52.142172",
     "exception": false,
     "start_time": "2021-10-28T19:42:49.843700",
     "status": "completed"
    },
    "tags": []
   },
   "source": []
  },
  {
   "cell_type": "code",
   "execution_count": 13,
   "id": "a2ef7356",
   "metadata": {
    "execution": {
     "iopub.execute_input": "2021-10-28T19:42:56.635851Z",
     "iopub.status.busy": "2021-10-28T19:42:56.635165Z",
     "iopub.status.idle": "2021-10-28T19:42:56.638351Z",
     "shell.execute_reply": "2021-10-28T19:42:56.638879Z"
    },
    "papermill": {
     "duration": 2.243519,
     "end_time": "2021-10-28T19:42:56.639049",
     "exception": false,
     "start_time": "2021-10-28T19:42:54.395530",
     "status": "completed"
    },
    "tags": []
   },
   "outputs": [],
   "source": [
    "#expected = model.predict(bow2)\n",
    "#test_id = test_data['ID'] # id of item\n",
    "#expected_df = pd.DataFrame(expected)\n",
    "#result = pd.concat([test_id, expected_df], axis=1)\n",
    "#result.columns = ['ID','Expected']\n",
    "#result.to_csv(r'submission.csv', index = False)"
   ]
  }
 ],
 "metadata": {
  "kernelspec": {
   "display_name": "Python 3",
   "language": "python",
   "name": "python3"
  },
  "language_info": {
   "codemirror_mode": {
    "name": "ipython",
    "version": 3
   },
   "file_extension": ".py",
   "mimetype": "text/x-python",
   "name": "python",
   "nbconvert_exporter": "python",
   "pygments_lexer": "ipython3",
   "version": "3.7.10"
  },
  "papermill": {
   "default_parameters": {},
   "duration": 3497.951389,
   "end_time": "2021-10-28T19:43:00.920675",
   "environment_variables": {},
   "exception": null,
   "input_path": "__notebook__.ipynb",
   "output_path": "__notebook__.ipynb",
   "parameters": {},
   "start_time": "2021-10-28T18:44:42.969286",
   "version": "2.3.3"
  }
 },
 "nbformat": 4,
 "nbformat_minor": 5
}
